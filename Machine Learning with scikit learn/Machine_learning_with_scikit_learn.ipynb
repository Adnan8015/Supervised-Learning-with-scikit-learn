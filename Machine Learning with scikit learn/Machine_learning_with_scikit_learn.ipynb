{
  "nbformat": 4,
  "nbformat_minor": 0,
  "metadata": {
    "colab": {
      "provenance": []
    },
    "kernelspec": {
      "name": "python3",
      "display_name": "Python 3"
    },
    "language_info": {
      "name": "python"
    }
  },
  "cells": [
    {
      "cell_type": "markdown",
      "source": [
        "# Classification"
      ],
      "metadata": {
        "id": "jp3IEy9YDmbP"
      }
    },
    {
      "cell_type": "markdown",
      "source": [
        "**Unsupervised Learning**"
      ],
      "metadata": {
        "id": "icrr8qTYDpT-"
      }
    },
    {
      "cell_type": "code",
      "source": [
        "\"\"\"\n",
        "\n",
        "Unsupervised learning is the process of uncovering hidden patterns and structures from unlabeled data. For example, a business may wish to group\n",
        "its customers into distinct categories based on their purchasing behavior without knowing in advance what these categories are.\n",
        "This is known as clustering, one branch of unsupervised learning.\n",
        "\n",
        "\"\"\""
      ],
      "metadata": {
        "id": "i9wq6He8DuEL"
      },
      "execution_count": null,
      "outputs": []
    },
    {
      "cell_type": "markdown",
      "source": [
        "**Supervised Learning**"
      ],
      "metadata": {
        "id": "t-IL0pwcD3A5"
      }
    },
    {
      "cell_type": "code",
      "execution_count": null,
      "metadata": {
        "id": "5rBGdpcPDPtL"
      },
      "outputs": [],
      "source": [
        "\"\"\"\n",
        "\n",
        "Supervised learning is a type of machine learning where the values to be predicted are already known, and a model is built with the aim of accurately predicting values\n",
        "of previously unseen data. Supervised learning uses features to predict the value of a target variable, such as predicting a basketball player's position based on their points per game.\n",
        "\n",
        "\"\"\""
      ]
    },
    {
      "cell_type": "markdown",
      "source": [
        "# The Classification Challenge"
      ],
      "metadata": {
        "id": "Fr0_3k4MFGoi"
      }
    },
    {
      "cell_type": "code",
      "source": [
        "\"\"\"\n",
        "\n",
        "Import KNeighborsClassifier from sklearn.neighbors.\n",
        "Instantiate a KNeighborsClassifier called knn with 6 neighbors.\n",
        "Fit the classifier to the data using the .fit() method.\n",
        "\n",
        "\"\"\"\n",
        "\n",
        "# Import KNeighborsClassifier\n",
        "from sklearn.neighbors import KNeighborsClassifier\n",
        "\n",
        "y = churn_df[\"churn\"].values\n",
        "X = churn_df[[\"account_length\", \"customer_service_calls\"]].values\n",
        "\n",
        "# Create a KNN classifier with 6 neighbors\n",
        "knn = KNeighborsClassifier(n_neighbors=6)\n",
        "\n",
        "# Fit the classifier to the data\n",
        "knn.fit(X, y)"
      ],
      "metadata": {
        "id": "BgP3plgWFLXj"
      },
      "execution_count": null,
      "outputs": []
    },
    {
      "cell_type": "code",
      "source": [
        "\"\"\"\n",
        "\n",
        "Create y_pred by predicting the target values of the unseen features X_new using the knn model.\n",
        "Print the predicted labels for the set of predictions.\n",
        "\n",
        "\"\"\"\n",
        "\n",
        "\n",
        "# Predict the labels for the X_new\n",
        "y_pred = knn.predict(X_new)\n",
        "\n",
        "# Print the predictions\n",
        "print(\"Predictions: {}\".format(y_pred))"
      ],
      "metadata": {
        "id": "DTJ0lvgKMPhH"
      },
      "execution_count": null,
      "outputs": []
    },
    {
      "cell_type": "markdown",
      "source": [
        "# Measuring Model Performance"
      ],
      "metadata": {
        "id": "BoMyeGj6NAF9"
      }
    },
    {
      "cell_type": "code",
      "source": [
        "\"\"\"\n",
        "\n",
        "Import train_test_split from sklearn.model_selection.\n",
        "Split X and y into training and test sets, setting test_size equal to 20%, random_state to 42, and ensuring the target label proportions reflect that of the original dataset.\n",
        "Fit the knn model to the training data.\n",
        "Compute and print the model's accuracy for the test data.\n",
        "\n",
        "\"\"\"\n",
        "\n",
        "\n",
        "# Import the module\n",
        "from sklearn.model_selection import train_test_split\n",
        "\n",
        "X = churn_df.drop(\"churn\", axis=1).values\n",
        "y = churn_df[\"churn\"].values\n",
        "\n",
        "# Split into training and test sets\n",
        "X_train, X_test, y_train, y_test = train_test_split(X, y, test_size=0.2, random_state=42, stratify=y)\n",
        "knn = KNeighborsClassifier(n_neighbors=5)\n",
        "\n",
        "# Fit the classifier to the training data\n",
        "knn.fit(X_train , y_train)\n",
        "\n",
        "# Print the accuracy\n",
        "print(knn.score(X_test, y_test))"
      ],
      "metadata": {
        "id": "kxh7ZYokNEN4"
      },
      "execution_count": null,
      "outputs": []
    },
    {
      "cell_type": "code",
      "source": [
        "\"\"\"\n",
        "\n",
        "Create neighbors as a numpy array of values from 1 up to and including 12.\n",
        "Instantiate a KNeighborsClassifier, with the number of neighbors equal to the neighbor iterator.\n",
        "Fit the model to the training data.\n",
        "Calculate accuracy scores for the training set and test set separately using the .score() method, and assign the results to the train_accuracies and test_accuracies dictionaries, respectively, utilizing the neighbor iterator as the index.\n",
        "\n",
        "\"\"\"\n",
        "\n",
        "\n",
        "# Create neighbors\n",
        "neighbors = np.arange(1, 13)\n",
        "train_accuracies = {}\n",
        "test_accuracies = {}\n",
        "\n",
        "for neighbor in neighbors:\n",
        "\n",
        "\t# Set up a KNN Classifier\n",
        "\tknn = KNeighborsClassifier(n_neighbors=neighbor)\n",
        "\n",
        "\t# Fit the model\n",
        "\tknn.fit(X_train, y_train)\n",
        "\n",
        "\t# Compute accuracy\n",
        "\ttrain_accuracies[neighbor] = knn.score(X_train, y_train)\n",
        "\ttest_accuracies[neighbor] = knn.score(X_test, y_test)\n",
        "print(neighbors, '\\n', train_accuracies, '\\n', test_accuracies)"
      ],
      "metadata": {
        "id": "vYgrFVQAVkSF"
      },
      "execution_count": null,
      "outputs": []
    },
    {
      "cell_type": "code",
      "source": [
        "\"\"\"\n",
        "\n",
        "Add a title \"KNN: Varying Number of Neighbors\".\n",
        "Plot the .values() method of train_accuracies on the y-axis against neighbors on the x-axis, with a label of \"Training Accuracy\".\n",
        "Plot the .values() method of test_accuracies on the y-axis against neighbors on the x-axis, with a label of \"Testing Accuracy\".\n",
        "Display the plot.\n",
        "\n",
        "\"\"\"\n",
        "\n",
        "# Add a title\n",
        "plt.title(\"KNN: Varying Number of Neighbors\")\n",
        "\n",
        "# Plot training accuracies\n",
        "plt.plot(neighbors, train_accuracies.values(), label=\"Training Accuracy\")\n",
        "\n",
        "# Plot test accuracies\n",
        "plt.plot(neighbors, test_accuracies.values(), label=\"Testing Accuracy\")\n",
        "\n",
        "plt.legend()\n",
        "plt.xlabel(\"Number of Neighbors\")\n",
        "plt.ylabel(\"Accuracy\")\n",
        "\n",
        "# Display the plot\n",
        "plt.show()"
      ],
      "metadata": {
        "id": "XAMUyAHZWjEx"
      },
      "execution_count": null,
      "outputs": []
    }
  ]
}